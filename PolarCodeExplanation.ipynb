{
 "cells": [
  {
   "cell_type": "markdown",
   "id": "eec14d28",
   "metadata": {},
   "source": [
    "# Channel Polarization\n",
    "\n",
    "Consider 2-bit transmitting channel such that:\n",
    "- one bit is transmitted without any process\n",
    "- another bit is transmitted with <b>XOR</b> operation of two inputs of bits.\n",
    "\n",
    "We call these channels are <i>polarized</i> as it transmits the single bit <b>twice</b>. Thus, the twice-transmitted bit is <i>repetively coded</i>, therefore, it is a good channel. Otherwise, it is a bad channel.\n",
    "We may demonstrate such channel using this $G_{2}$ matrix.\n",
    "\n",
    "$$G_{2} = \\begin{bmatrix}1 & 0\\\\\n",
    "1 & 1\n",
    "\\end{bmatrix}$$\n",
    "\n",
    "Consider inputs $x = \\begin{bmatrix}u_{0} & u_{1}\\end{bmatrix}$.\n",
    "\n",
    "Transmitting $y=x G_{2}$ gives the same as we discussed. See the example below."
   ]
  },
  {
   "cell_type": "code",
   "execution_count": 6,
   "id": "5aefcd1d",
   "metadata": {},
   "outputs": [
    {
     "name": "stdout",
     "output_type": "stream",
     "text": [
      "G2:\n",
      "[[1 0]\n",
      " [1 1]]\n",
      "x1G2:\n",
      "[0 0]\n",
      "x2G2:\n",
      "[1 1]\n",
      "x3G2:\n",
      "[1 0]\n",
      "x4G2:\n",
      "[2 1]\n"
     ]
    }
   ],
   "source": [
    "import numpy as np\n",
    "\n",
    "x1 = np.array([0, 0])\n",
    "x2 = np.array([0, 1])\n",
    "x3 = np.array([1, 0])\n",
    "x4 = np.array([1, 1])\n",
    "\n",
    "G2 = np.array([[1, 0],[1, 1]])\n",
    "\n",
    "print(\"G2:\")\n",
    "print(G2)\n",
    "\n",
    "print(\"x1G2:\")\n",
    "print(np.matmul(x1,G2))\n",
    "print(\"x2G2:\")\n",
    "print(np.matmul(x2,G2))\n",
    "print(\"x3G2:\")\n",
    "print(np.matmul(x3,G2))\n",
    "print(\"x4G2:\")\n",
    "print(np.matmul(x4,G2))"
   ]
  },
  {
   "cell_type": "markdown",
   "id": "d96d614c",
   "metadata": {},
   "source": [
    "In addition, we use 1 or 0 (bits) for the data. XOR operation for $x_{4}G_{2}$ was needed. The XOR operation can be implemented by adding the bits and then the (mod 2) operation. Adding in mod 2 is the addition in Galois field of $GF(2)$."
   ]
  },
  {
   "cell_type": "code",
   "execution_count": 8,
   "id": "c3a3b08c",
   "metadata": {},
   "outputs": [
    {
     "name": "stdout",
     "output_type": "stream",
     "text": [
      "mod 2 of x4G2:\n",
      "[0 1]\n"
     ]
    }
   ],
   "source": [
    "print(\"mod 2 of x4G2:\")\n",
    "print(np.matmul(x4,G2)%2)"
   ]
  },
  {
   "cell_type": "markdown",
   "id": "0dcd77ea",
   "metadata": {},
   "source": [
    "Thus, this $G_{2}$ matrix is a one-to-one mapping for Galois field of $GF(2^{2})$. Channel polarization is a linear-based process, thus, it is faster than the other complicated encoders. See the example below."
   ]
  },
  {
   "cell_type": "code",
   "execution_count": 11,
   "id": "6e8496a2",
   "metadata": {},
   "outputs": [
    {
     "name": "stdout",
     "output_type": "stream",
     "text": [
      "X:\n",
      "[[0 0]\n",
      " [0 1]\n",
      " [1 0]\n",
      " [1 1]]\n",
      "Y:\n",
      "[[0 0]\n",
      " [1 1]\n",
      " [1 0]\n",
      " [0 1]]\n"
     ]
    }
   ],
   "source": [
    "X = np.array([[0, 0],\n",
    "             [0, 1],\n",
    "             [1, 0],\n",
    "             [1, 1]])\n",
    "\n",
    "Y = np.matmul(X,G2)%2\n",
    "\n",
    "print(\"X:\")\n",
    "print(X)\n",
    "print(\"Y:\")\n",
    "print(Y)"
   ]
  },
  {
   "cell_type": "markdown",
   "id": "bafd97aa",
   "metadata": {},
   "source": [
    "One may notice that the $u_{0}$ is the bad channel, and the $u_{1}$ is the good channel.\n",
    "\n",
    "One may <b>not</b> use $u_{0}$ for the data transmission, but as a redundancy. (<i>i.e.</i> We call this as <i><b>Frozen Bit</b></i>.)\n",
    "\n",
    "If we only use $u_{1}$ for the data transmission, and we leave $u_{0} = 0$ as the frozen bit, we get:"
   ]
  },
  {
   "cell_type": "code",
   "execution_count": 16,
   "id": "257cc098",
   "metadata": {},
   "outputs": [
    {
     "name": "stdout",
     "output_type": "stream",
     "text": [
      "u0:\n",
      "[[0]\n",
      " [0]]\n",
      "u1:\n",
      "[[0]\n",
      " [1]]\n",
      "Y:\n",
      "[[0 0]\n",
      " [1 1]]\n"
     ]
    }
   ],
   "source": [
    "u0 = X[0:2,0].reshape(2,1)\n",
    "u1 = X[0:2,1].reshape(2,1)\n",
    "print(\"u0:\")\n",
    "print(u0)\n",
    "print(\"u1:\")\n",
    "print(u1)\n",
    "\n",
    "print(\"Y:\")\n",
    "print(Y[0:2])"
   ]
  },
  {
   "cell_type": "markdown",
   "id": "1c8eb42e",
   "metadata": {},
   "source": [
    "We can clearly see that the channel polarization is based on the repetive coding.\n",
    "\n",
    "It gets more complicated when we transmit more than 2 bits. The solution is \"<b>Recursive</b>.\" If we recursively polarize the channels, let's say, twice, then we transmit 4 bits.\n",
    "\n",
    "Polarizing function was solely demonstrated by $G_{2}$. How can we build $G_{4}$? <b>Recursively</b>. But how recursive?\n",
    "\n",
    "Let's say we have $x=\\begin{bmatrix}u_{0} & u_{1} & u_{2} & u_{3}\\end{bmatrix}$. Can we polarize for $\\begin{bmatrix}w_{0} & w_{2}\\end{bmatrix}$ and $\\begin{bmatrix}w_{1} & w_{3}\\end{bmatrix}$ after polarizing $\\{w\\}$ by multiplying $G_{2}$ for $\\begin{bmatrix}u_{0} & u_{1}\\end{bmatrix}$ and $\\begin{bmatrix}u_{2} & u_{3}\\end{bmatrix}$? <b>Yes</b>.\n",
    "\n",
    "Then $u_{0}$ is a bad-bad channel, $u_{1}$ is a good-bad channel, $u_{2}$ is a bad-good channel, $u_{3}$ is a good-good channel.\n",
    "\n",
    "The equation is below:\n",
    "\n",
    "$$\\begin{equation} \\label{eq1}\n",
    "\\begin{split}\n",
    "x & =\\begin{bmatrix}u_{0} & u_{1} & u_{2} & u_{3}\\end{bmatrix}=\\begin{bmatrix}U_{01} & U_{23}\\end{bmatrix}\\\\\n",
    "w & =\\begin{bmatrix}U_{01}G_{2} & U_{23}G_{2}\\end{bmatrix}=\\begin{bmatrix}w_{0} & w_{1} & w_{2} & w_{3}\\end{bmatrix}\\\\\n",
    "w' & =w\\begin{bmatrix}1 & 0 & 0 & 0 \\\\ 0 & 0 & 1 & 0 \\\\ 0 & 1 & 0 & 0 \\\\ 0 & 0 & 0 & 1\\end{bmatrix} = \\begin{bmatrix}w'_{0} & w'_{1} & w'_{2} & w'_{3}\\end{bmatrix} = \\begin{bmatrix}W'_{01} & W'_{23}\\end{bmatrix}\\\\\n",
    "y' & = \\begin{bmatrix}W'_{01}G_{2} & W'_{23}G_{2}\\end{bmatrix} = \\begin{bmatrix}y'_{0} & y'_{1} & y'_{2} & y'_{3}\\end{bmatrix} \\\\\n",
    "y & = \\begin{bmatrix}y_{0} & y_{1} & y_{2} & y_{3}\\end{bmatrix} = \\begin{bmatrix}y'_{0} & y'_{2} & y'_{1} & y'_{3}\\end{bmatrix} = y'\\begin{bmatrix}1 & 0 & 0 & 0 \\\\ 0 & 0 & 1 & 0 \\\\ 0 & 1 & 0 & 0 \\\\ 0 & 0 & 0 & 1\\end{bmatrix}\n",
    "\\end{split}\n",
    "\\end{equation}$$\n",
    "\n",
    "One may note that $\\begin{bmatrix}1 & 0 & 0 & 0 \\\\ 0 & 0 & 1 & 0 \\\\ 0 & 1 & 0 & 0 \\\\ 0 & 0 & 0 & 1\\end{bmatrix}$ is a permutation matrix. All of the computations are linearly composed, thus, we may find a final form of this complex computation:\n",
    "\n",
    "$$\\begin{equation} \\label{eq2}\n",
    "\\begin{split}\n",
    "w & = x\\begin{bmatrix}G_{2} & \\mathbb{0} \\\\ \\mathbb{0} & G_{2}\\end{bmatrix} \\\\\n",
    "w' & = w\\begin{bmatrix}1 & 0 & 0 & 0 \\\\ 0 & 0 & 1 & 0 \\\\ 0 & 1 & 0 & 0 \\\\ 0 & 0 & 0 & 1\\end{bmatrix} \\\\\n",
    "y' & = w'\\begin{bmatrix}G_{2} & \\mathbb{0} \\\\ \\mathbb{0} & G_{2}\\end{bmatrix} \\\\\n",
    "y & = y'\\begin{bmatrix}1 & 0 & 0 & 0 \\\\ 0 & 0 & 1 & 0 \\\\ 0 & 1 & 0 & 0 \\\\ 0 & 0 & 0 & 1\\end{bmatrix}\n",
    "\\end{split}\n",
    "\\end{equation}$$\n",
    "\n",
    "Thus,\n",
    "\n",
    "$$\\begin{equation} \\label{eq3}\n",
    "\\begin{split}\n",
    "y & = x \\begin{bmatrix}G_{2} & \\mathbb{0} \\\\ \\mathbb{0} & G_{2}\\end{bmatrix} \\begin{bmatrix}1 & 0 & 0 & 0 \\\\ 0 & 0 & 1 & 0 \\\\ 0 & 1 & 0 & 0 \\\\ 0 & 0 & 0 & 1\\end{bmatrix} \\begin{bmatrix}G_{2} & \\mathbb{0} \\\\ \\mathbb{0} & G_{2}\\end{bmatrix} \\begin{bmatrix}1 & 0 & 0 & 0 \\\\ 0 & 0 & 1 & 0 \\\\ 0 & 1 & 0 & 0 \\\\ 0 & 0 & 0 & 1\\end{bmatrix} \\\\\n",
    "& = x \\begin{bmatrix}1 & 0 & 0 & 0 \\\\ 1 & 1 & 0 & 0 \\\\ 0 & 0 & 1 & 0 \\\\ 0 & 0 & 1 & 1\\end{bmatrix} \\begin{bmatrix}1 & 0 & 0 & 0 \\\\ 0 & 0 & 1 & 0 \\\\ 0 & 1 & 0 & 0 \\\\ 0 & 0 & 0 & 1\\end{bmatrix} \\begin{bmatrix}1 & 0 & 0 & 0 \\\\ 1 & 1 & 0 & 0 \\\\ 0 & 0 & 1 & 0 \\\\ 0 & 0 & 1 & 1\\end{bmatrix} \\begin{bmatrix}1 & 0 & 0 & 0 \\\\ 0 & 0 & 1 & 0 \\\\ 0 & 1 & 0 & 0 \\\\ 0 & 0 & 0 & 1\\end{bmatrix}\n",
    "\\end{split}\n",
    "\\end{equation}$$\n",
    "\n",
    "Then we can calculate the 4-bit polarization generator matrix as below:"
   ]
  },
  {
   "cell_type": "code",
   "execution_count": 19,
   "id": "0dee7507",
   "metadata": {},
   "outputs": [
    {
     "name": "stdout",
     "output_type": "stream",
     "text": [
      "G4:\n",
      "[[1 0 0 0]\n",
      " [1 1 0 0]\n",
      " [1 0 1 0]\n",
      " [1 1 1 1]]\n"
     ]
    }
   ],
   "source": [
    "G2_i = np.array([[1,0,0,0],\n",
    "                [1,1,0,0],\n",
    "                [0,0,1,0],\n",
    "                [0,0,1,1]])\n",
    "Perm = np.array([[1,0,0,0],\n",
    "                [0,0,1,0],\n",
    "                [0,1,0,0],\n",
    "                [0,0,0,1]])\n",
    "\n",
    "G4 = np.matmul(np.matmul(np.matmul(G2_i,Perm),G2_i),Perm)\n",
    "\n",
    "print(\"G4:\")\n",
    "print(G4)"
   ]
  },
  {
   "cell_type": "markdown",
   "id": "19a9c9e0",
   "metadata": {},
   "source": [
    "Note that the $G_{4}$ just looks like:\n",
    "\n",
    "$$G_{4} = \\begin{bmatrix}1 & 0 & 0 & 0 \\\\ 1 & 1 & 0 & 0 \\\\ 1 & 0 & 1 & 0 \\\\ 1 & 1 & 1 & 1\\end{bmatrix} = \\begin{bmatrix}G_{2} & \\mathbb{0} \\\\ G_{2} & G_{2}\\end{bmatrix} = G_{2} \\begin{bmatrix}\\mathbb{I} & \\mathbb{0} \\\\ \\mathbb{I} & \\mathbb{I}\\end{bmatrix} = G_{2} \\mathbb{G}_{2}$$\n",
    "\n",
    "This matrix operation is called the <b><i>Kronecker product</i></b>. You may notice later that this Kronecker product can be shown in other coding theory papers such as OFDM <i>Hadamard matrix</i> construction, and so on.\n",
    "\n",
    "Constructing $G_{8}$ is now simple as $G_{8} = G_{4} \\mathbb{G}_{2}$. We may use recursive function for this.\n",
    "\n",
    "Now we may implement such polarization coding (<i>i.e. <b>Polar Code</b></i>) as below. This encoding function was implemented as a distinguished <i>.py</i> file."
   ]
  },
  {
   "cell_type": "code",
   "execution_count": null,
   "id": "9bbe38e6",
   "metadata": {},
   "outputs": [],
   "source": []
  }
 ],
 "metadata": {
  "kernelspec": {
   "display_name": "Python 3 (ipykernel)",
   "language": "python",
   "name": "python3"
  },
  "language_info": {
   "codemirror_mode": {
    "name": "ipython",
    "version": 3
   },
   "file_extension": ".py",
   "mimetype": "text/x-python",
   "name": "python",
   "nbconvert_exporter": "python",
   "pygments_lexer": "ipython3",
   "version": "3.10.8"
  }
 },
 "nbformat": 4,
 "nbformat_minor": 5
}
